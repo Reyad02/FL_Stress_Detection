{
 "cells": [
  {
   "cell_type": "code",
   "execution_count": 1,
   "metadata": {},
   "outputs": [],
   "source": [
    "import flwr as fl"
   ]
  },
  {
   "cell_type": "code",
   "execution_count": null,
   "metadata": {},
   "outputs": [],
   "source": [
    "import tensorflow as tf\n",
    "# from tensorflow.keras.datasets import mnist\n",
    "from tensorflow.keras.models import Sequential\n",
    "from tensorflow.keras.layers import Conv2D, MaxPooling2D, Flatten, Dense\n",
    "from tensorflow.keras.utils import to_categorical\n",
    "from tinydb import TinyDB, Query\n",
    "\n",
    "db = TinyDB('../Application/dataset.csv')\n",
    "\n",
    "(x_train, y_train), (x_test, y_test) = db.load_data()\n",
    "x_train, x_test = x_train / 255.0, x_test / 255.0\n",
    "x_train = x_train.reshape(-1, 28, 28, 1)\n",
    "x_test = x_test.reshape(-1, 28, 28, 1)\n",
    "y_train = to_categorical(y_train, 10)\n",
    "y_test = to_categorical(y_test, 10)\n",
    "\n",
    "# Define a simple CNN model\n",
    "model = Sequential([\n",
    "    Conv2D(32, (3, 3), activation='relu', input_shape=(28, 28, 1)),\n",
    "    MaxPooling2D((2, 2)),\n",
    "    Flatten(),\n",
    "    Dense(128, activation='relu'),\n",
    "    Dense(10, activation='softmax')\n",
    "])\n",
    "\n",
    "model.fit(x_train, y_train, epochs=5, validation_data=(x_test, y_test))\n",
    "\n",
    "converter = tf.lite.TFLiteConverter.from_keras_model(model)\n",
    "tflite_model = converter.convert()\n",
    "\n",
    "with open('model.tflite', 'wb') as f:\n",
    "    f.write(tflite_model)\n"
   ]
  },
  {
   "cell_type": "code",
   "execution_count": 2,
   "metadata": {},
   "outputs": [
    {
     "name": "stderr",
     "output_type": "stream",
     "text": [
      "INFO flwr 2023-07-06 03:09:25,482 | app.py:148 | Starting Flower server, config: ServerConfig(num_rounds=3, round_timeout=None)\n",
      "INFO flwr 2023-07-06 03:09:25,522 | app.py:168 | Flower ECE: gRPC server running (3 rounds), SSL is disabled\n",
      "INFO flwr 2023-07-06 03:09:25,523 | server.py:86 | Initializing global parameters\n",
      "INFO flwr 2023-07-06 03:09:25,524 | server.py:273 | Requesting initial parameters from one random client\n",
      "INFO flwr 2023-07-06 03:09:53,642 | server.py:277 | Received initial parameters from one random client\n",
      "INFO flwr 2023-07-06 03:09:53,643 | server.py:88 | Evaluating initial parameters\n",
      "INFO flwr 2023-07-06 03:09:53,644 | server.py:101 | FL starting\n",
      "DEBUG flwr 2023-07-06 03:10:25,695 | server.py:218 | fit_round 1: strategy sampled 2 clients (out of 2)\n",
      "DEBUG flwr 2023-07-06 03:10:34,373 | server.py:232 | fit_round 1 received 2 results and 0 failures\n",
      "WARNING flwr 2023-07-06 03:10:34,375 | fedavg.py:243 | No fit_metrics_aggregation_fn provided\n",
      "DEBUG flwr 2023-07-06 03:10:34,376 | server.py:168 | evaluate_round 1: strategy sampled 2 clients (out of 2)\n",
      "DEBUG flwr 2023-07-06 03:11:36,164 | server.py:182 | evaluate_round 1 received 2 results and 0 failures\n",
      "WARNING flwr 2023-07-06 03:11:36,166 | fedavg.py:274 | No evaluate_metrics_aggregation_fn provided\n",
      "DEBUG flwr 2023-07-06 03:11:36,166 | server.py:218 | fit_round 2: strategy sampled 2 clients (out of 2)\n",
      "DEBUG flwr 2023-07-06 03:11:45,302 | server.py:232 | fit_round 2 received 2 results and 0 failures\n",
      "DEBUG flwr 2023-07-06 03:11:45,304 | server.py:168 | evaluate_round 2: strategy sampled 2 clients (out of 2)\n",
      "DEBUG flwr 2023-07-06 03:12:46,793 | server.py:182 | evaluate_round 2 received 2 results and 0 failures\n",
      "DEBUG flwr 2023-07-06 03:12:46,794 | server.py:218 | fit_round 3: strategy sampled 2 clients (out of 2)\n",
      "DEBUG flwr 2023-07-06 03:12:56,870 | server.py:232 | fit_round 3 received 2 results and 0 failures\n",
      "DEBUG flwr 2023-07-06 03:12:56,871 | server.py:168 | evaluate_round 3: strategy sampled 2 clients (out of 2)\n",
      "DEBUG flwr 2023-07-06 03:13:58,086 | server.py:182 | evaluate_round 3 received 2 results and 0 failures\n",
      "INFO flwr 2023-07-06 03:13:58,087 | server.py:147 | FL finished in 244.4429798\n",
      "INFO flwr 2023-07-06 03:13:58,089 | app.py:218 | app_fit: losses_distributed [(1, 0.5859200954437256), (2, 0.5260496139526367), (3, 0.45686882734298706)]\n",
      "INFO flwr 2023-07-06 03:13:58,090 | app.py:219 | app_fit: metrics_distributed_fit {}\n",
      "INFO flwr 2023-07-06 03:13:58,090 | app.py:220 | app_fit: metrics_distributed {}\n",
      "INFO flwr 2023-07-06 03:13:58,091 | app.py:221 | app_fit: losses_centralized []\n",
      "INFO flwr 2023-07-06 03:13:58,092 | app.py:222 | app_fit: metrics_centralized {}\n"
     ]
    },
    {
     "data": {
      "text/plain": [
       "History (loss, distributed):\n",
       "\tround 1: 0.5859200954437256\n",
       "\tround 2: 0.5260496139526367\n",
       "\tround 3: 0.45686882734298706"
      ]
     },
     "execution_count": 2,
     "metadata": {},
     "output_type": "execute_result"
    }
   ],
   "source": [
    "fl.server.start_server(config=fl.server.ServerConfig(num_rounds=3))"
   ]
  },
  {
   "cell_type": "code",
   "execution_count": null,
   "metadata": {},
   "outputs": [],
   "source": []
  }
 ],
 "metadata": {
  "kernelspec": {
   "display_name": "Python 3 (ipykernel)",
   "language": "python",
   "name": "python3"
  },
  "language_info": {
   "codemirror_mode": {
    "name": "ipython",
    "version": 3
   },
   "file_extension": ".py",
   "mimetype": "text/x-python",
   "name": "python",
   "nbconvert_exporter": "python",
   "pygments_lexer": "ipython3",
   "version": "3.9.16"
  }
 },
 "nbformat": 4,
 "nbformat_minor": 2
}
